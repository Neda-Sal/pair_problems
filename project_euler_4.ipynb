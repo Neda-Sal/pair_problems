{
 "cells": [
  {
   "cell_type": "markdown",
   "metadata": {},
   "source": [
    "https://projecteuler.net/problem=4\n",
    "\n",
    "A palindromic number reads the same both ways. The largest palindrome made from the product of two 2-digit numbers is 9009 = 91 × 99.\n",
    "\n",
    "Find the largest palindrome made from the product of two 3-digit numbers.\n",
    "\n",
    "With Steven Millington"
   ]
  },
  {
   "cell_type": "code",
   "execution_count": 3,
   "metadata": {},
   "outputs": [
    {
     "name": "stdout",
     "output_type": "stream",
     "text": [
      "palindrome_n: 906609, factors: 913, 993\n"
     ]
    }
   ],
   "source": [
    "#note that the palindrome will be 6 digits\n",
    "\n",
    "#make a list of all the three digit numbers\n",
    "arr = list(range(100, 1000))\n",
    "\n",
    "still_looking = True \n",
    "#start from the highest 3 digit number and make a palindrome out of it\n",
    "for i in arr[::-1]:\n",
    "    n = str(i)\n",
    "    palindrome_n =  int(n[:] + n[::-1])\n",
    "    \n",
    "    if still_looking == True:\n",
    "        for j in range(100, 1000):\n",
    "            #check if the palindrome is factorable by 2 three digit nums\n",
    "            if palindrome_n % j == 0:\n",
    "                if len(str(int(palindrome_n / j))) == 3:\n",
    "                    print(\"palindrome_n: \" + str(palindrome_n) + \",\", \"factors: \" + str(j) + \",\", int(palindrome_n / j))\n",
    "                    still_looking = False\n",
    "                    break\n",
    "    else:\n",
    "        break"
   ]
  },
  {
   "cell_type": "code",
   "execution_count": null,
   "metadata": {},
   "outputs": [],
   "source": []
  }
 ],
 "metadata": {
  "kernelspec": {
   "display_name": "Python 3",
   "language": "python",
   "name": "python3"
  },
  "language_info": {
   "codemirror_mode": {
    "name": "ipython",
    "version": 3
   },
   "file_extension": ".py",
   "mimetype": "text/x-python",
   "name": "python",
   "nbconvert_exporter": "python",
   "pygments_lexer": "ipython3",
   "version": "3.8.5"
  }
 },
 "nbformat": 4,
 "nbformat_minor": 4
}
