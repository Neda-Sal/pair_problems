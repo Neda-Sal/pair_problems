{
 "cells": [
  {
   "cell_type": "markdown",
   "metadata": {},
   "source": [
    "### There is a building with 100 floors. You have two eggs. If either egg is dropped from the Kth floor or above it will break. If it's dropped from any of the floors below, it wouldn't break, however many times you dropped it. We need to find the cut-off floor K. How many tries would you need before you can find that floor?"
   ]
  },
  {
   "cell_type": "code",
   "execution_count": 1,
   "metadata": {},
   "outputs": [],
   "source": [
    "import random"
   ]
  },
  {
   "cell_type": "code",
   "execution_count": 31,
   "metadata": {},
   "outputs": [],
   "source": [
    "#start with a binary search, if it breaks, you know it's the lower half, if not, \n",
    "#it's the upper half\n",
    "\n",
    "def egg_drop(num_floors=100):\n",
    "    \n",
    "    cut_off = random.randint(1,num_floors)\n",
    "    count = 1\n",
    "    max_floor = num_floors\n",
    "    min_floor = 0\n",
    "    num_eggs = 2\n",
    "    print('cut_off =', cut_off)\n",
    "    \n",
    "    #use 1 egg to find if it's above or below the midpoint, \n",
    "    # updating the midpoint until the egg breaks\n",
    "    if cut_off > (max_floor + min_floor)//2:\n",
    "        print('over 50')\n",
    "        while cut_off > (max_floor + min_floor)//2:\n",
    "            count += 1\n",
    "            min_floor = (max_floor + min_floor)//2\n",
    "            print('min_floor =', min_floor)\n",
    "            print('count = ', count)\n",
    "        \n",
    "        \n",
    "    else:\n",
    "        print('under 50')\n",
    "        max_floor = (max_floor + min_floor)//2\n",
    "        \n",
    "    \n",
    "    for i in range(min_floor, max_floor+1,2):\n",
    "        count += 1\n",
    "        if i > cut_off: \n",
    "            return (i - 1), count\n",
    "        \n",
    "        elif i == cut_off:           \n",
    "            return i, count\n",
    "            \n",
    "\n",
    "    \n",
    "        "
   ]
  },
  {
   "cell_type": "code",
   "execution_count": 32,
   "metadata": {},
   "outputs": [
    {
     "name": "stdout",
     "output_type": "stream",
     "text": [
      "cut_off = 80\n",
      "over 50\n",
      "min_floor = 50\n",
      "count =  2\n",
      "min_floor = 75\n",
      "count =  3\n"
     ]
    },
    {
     "data": {
      "text/plain": [
       "(80, 7)"
      ]
     },
     "execution_count": 32,
     "metadata": {},
     "output_type": "execute_result"
    }
   ],
   "source": [
    "egg_drop()"
   ]
  },
  {
   "cell_type": "code",
   "execution_count": 34,
   "metadata": {},
   "outputs": [
    {
     "name": "stdout",
     "output_type": "stream",
     "text": [
      "cut_off = 26\n",
      "under 50\n"
     ]
    },
    {
     "data": {
      "text/plain": [
       "(26, 15)"
      ]
     },
     "execution_count": 34,
     "metadata": {},
     "output_type": "execute_result"
    }
   ],
   "source": [
    "egg_drop()"
   ]
  },
  {
   "cell_type": "markdown",
   "metadata": {},
   "source": [
    "### A way other than a binary search would be to go by tens\n",
    "ooooorrr, if you partition the number of floors, n, by the step size sqrt(n), then that gives the best time complexity"
   ]
  },
  {
   "cell_type": "code",
   "execution_count": 35,
   "metadata": {},
   "outputs": [],
   "source": [
    "import math"
   ]
  },
  {
   "cell_type": "code",
   "execution_count": 42,
   "metadata": {},
   "outputs": [],
   "source": [
    "def egg_drop2(num_floors=100):\n",
    "    \n",
    "    partition_size = math.floor(math.sqrt(num_floors))\n",
    "    cutoff = random.randint(1,num_floors)\n",
    "    count = 1\n",
    "    \n",
    "    min_floor = 1\n",
    "\n",
    "    while cutoff > min_floor:\n",
    "        count += 1\n",
    "        min_floor += partition_size\n",
    "    \n",
    "    min_floor -= partition_size\n",
    "    \n",
    "    while min_floor < cutoff:\n",
    "        min_floor += 1\n",
    "        count += 1\n",
    "        \n",
    "    return cutoff, count"
   ]
  },
  {
   "cell_type": "code",
   "execution_count": 43,
   "metadata": {},
   "outputs": [
    {
     "data": {
      "text/plain": [
       "(21, 13)"
      ]
     },
     "execution_count": 43,
     "metadata": {},
     "output_type": "execute_result"
    }
   ],
   "source": [
    "egg_drop2()"
   ]
  },
  {
   "cell_type": "code",
   "execution_count": 44,
   "metadata": {},
   "outputs": [
    {
     "data": {
      "text/plain": [
       "(55, 11)"
      ]
     },
     "execution_count": 44,
     "metadata": {},
     "output_type": "execute_result"
    }
   ],
   "source": [
    "egg_drop2()"
   ]
  },
  {
   "cell_type": "code",
   "execution_count": 46,
   "metadata": {},
   "outputs": [
    {
     "data": {
      "text/plain": [
       "(85277, 160)"
      ]
     },
     "execution_count": 46,
     "metadata": {},
     "output_type": "execute_result"
    }
   ],
   "source": [
    "egg_drop2(647839)"
   ]
  },
  {
   "cell_type": "code",
   "execution_count": 47,
   "metadata": {},
   "outputs": [
    {
     "name": "stdout",
     "output_type": "stream",
     "text": [
      "cut_off = 196494\n",
      "under 50\n"
     ]
    },
    {
     "data": {
      "text/plain": [
       "(196494, 98249)"
      ]
     },
     "execution_count": 47,
     "metadata": {},
     "output_type": "execute_result"
    }
   ],
   "source": [
    "egg_drop(647839)"
   ]
  },
  {
   "cell_type": "code",
   "execution_count": 48,
   "metadata": {},
   "outputs": [
    {
     "name": "stdout",
     "output_type": "stream",
     "text": [
      "cut_off = 185190\n",
      "under 50\n"
     ]
    },
    {
     "data": {
      "text/plain": [
       "((107811, 210), (185190, 92597))"
      ]
     },
     "execution_count": 48,
     "metadata": {},
     "output_type": "execute_result"
    }
   ],
   "source": [
    "egg_drop2(647839), egg_drop(647839)"
   ]
  },
  {
   "cell_type": "code",
   "execution_count": null,
   "metadata": {},
   "outputs": [],
   "source": [
    "#yeah egg_drop2 has a MUCH better time complexity"
   ]
  }
 ],
 "metadata": {
  "kernelspec": {
   "display_name": "Python 3",
   "language": "python",
   "name": "python3"
  },
  "language_info": {
   "codemirror_mode": {
    "name": "ipython",
    "version": 3
   },
   "file_extension": ".py",
   "mimetype": "text/x-python",
   "name": "python",
   "nbconvert_exporter": "python",
   "pygments_lexer": "ipython3",
   "version": "3.8.5"
  }
 },
 "nbformat": 4,
 "nbformat_minor": 4
}
