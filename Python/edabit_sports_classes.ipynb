{
 "cells": [
  {
   "cell_type": "markdown",
   "metadata": {},
   "source": [
    "https://edabit.com/challenge/pa65DgwG5HMbtf6iY\n",
    "\n",
    "Create a class that takes the following four arguments for a particular football player:\n",
    "\n",
    "name  \n",
    "age  \n",
    "height  \n",
    "weight  \n",
    "Also, create three functions for the class that returns the following strings:  \n",
    "\n",
    "get_age() returns \"**name** is age **age**\"  \n",
    "\n",
    "get_height() returns \"**name** is **height**cm\"    \n",
    "\n",
    "get_weight() returns \"**name** weighs **weight**kg\"    "
   ]
  },
  {
   "cell_type": "code",
   "execution_count": 22,
   "metadata": {},
   "outputs": [],
   "source": [
    "class player():\n",
    "    \n",
    "    def __init__(self, name, age, height, weight):\n",
    "        self.name = name\n",
    "        self.age = age\n",
    "        self.height = height\n",
    "        self.weight = weight\n",
    "        \n",
    "    def get_age(self):\n",
    "        return f\"{self.name} is age {self.age}\"\n",
    "    \n",
    "    def get_height(self):\n",
    "        return f\"{self.name} is {self.height}cm\"\n",
    "    \n",
    "    def get_weight(self):\n",
    "        return f\"{self.name} weighs {self.weight}kg\""
   ]
  },
  {
   "cell_type": "code",
   "execution_count": 23,
   "metadata": {},
   "outputs": [],
   "source": [
    "p1 = player('ned', 25, 62, 100)"
   ]
  },
  {
   "cell_type": "code",
   "execution_count": 24,
   "metadata": {},
   "outputs": [
    {
     "data": {
      "text/plain": [
       "'ned is age 25'"
      ]
     },
     "execution_count": 24,
     "metadata": {},
     "output_type": "execute_result"
    }
   ],
   "source": [
    "p1.get_age()"
   ]
  },
  {
   "cell_type": "code",
   "execution_count": 25,
   "metadata": {},
   "outputs": [
    {
     "data": {
      "text/plain": [
       "'ned is 62cm'"
      ]
     },
     "execution_count": 25,
     "metadata": {},
     "output_type": "execute_result"
    }
   ],
   "source": [
    "p1.get_height()"
   ]
  },
  {
   "cell_type": "code",
   "execution_count": 26,
   "metadata": {},
   "outputs": [
    {
     "data": {
      "text/plain": [
       "'ned weighs 100kg'"
      ]
     },
     "execution_count": 26,
     "metadata": {},
     "output_type": "execute_result"
    }
   ],
   "source": [
    "p1.get_weight()"
   ]
  },
  {
   "cell_type": "code",
   "execution_count": null,
   "metadata": {},
   "outputs": [],
   "source": []
  }
 ],
 "metadata": {
  "kernelspec": {
   "display_name": "Python 3",
   "language": "python",
   "name": "python3"
  },
  "language_info": {
   "codemirror_mode": {
    "name": "ipython",
    "version": 3
   },
   "file_extension": ".py",
   "mimetype": "text/x-python",
   "name": "python",
   "nbconvert_exporter": "python",
   "pygments_lexer": "ipython3",
   "version": "3.8.5"
  }
 },
 "nbformat": 4,
 "nbformat_minor": 4
}
