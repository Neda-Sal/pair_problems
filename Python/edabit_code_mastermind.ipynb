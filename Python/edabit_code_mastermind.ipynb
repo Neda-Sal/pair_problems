{
 "cells": [
  {
   "cell_type": "markdown",
   "metadata": {},
   "source": [
    "https://edabit.com/challenge/2iibnCci6G42f8Mjr\n",
    "\n",
    "The classic game of Mastermind is played on a tray on which the Mastermind conceals a code and the Guesser has 10 tries to guess it. The code is a sequence of 4 (or 6, sometimes more) pegs of different colors. Each guess is a corresponding sequence of 4 (or more) pegs of different colors. A guess is \"correct\" when the color of every peg in the guess exactly matches the corresponding peg in the Mastermind's code.\n",
    "\n",
    "After each guess by the Guesser, the Mastermind will give a score comprising black & white pegs, not arranged in any order:\n",
    "\n",
    "- Black peg == guess peg matches the color of a code peg in the same position.  \n",
    "- White peg == guess peg matches the color of a code peg in another position.  \n",
    "\n",
    "Create a function that takes two strings, code and guess as arguments, and returns the score in a dictionary.  \n",
    "\n",
    "- The code and guess are strings of numeric digits  \n",
    "- The color of the pegs are represented by numeric digits  \n",
    "- no \"peg\" may be double-scored  \n",
    "\n",
    "\n",
    "Examples\n",
    "\n",
    ">guess_score(\"1423\", \"5678\") ➞ {\"black\": 0, \"white\": 0}  \n",
    "guess_score(\"1423\", \"2222\") ➞ {\"black\": 1, \"white\": 0}  \n",
    "guess_score(\"1423\", \"1234\") ➞ {\"black\": 1, \"white\": 3}  \n",
    "guess_score(\"1423\", \"2211\") ➞ {\"black\": 0, \"white\": 2}  "
   ]
  },
  {
   "cell_type": "code",
   "execution_count": 22,
   "metadata": {},
   "outputs": [],
   "source": [
    "def guess_score(code, guess):\n",
    "    \n",
    "    score = {'black':0, 'white':0}\n",
    "    \n",
    "    #check if they have anything in common\n",
    "    common = set(code).intersection(set(guess))\n",
    "    \n",
    "    #if common is not empty, find the commonalities\n",
    "    if common:\n",
    "        for idx, num in enumerate(code):\n",
    "            if (num in common) and (guess[idx] == num):\n",
    "                score['black'] += 1\n",
    "            elif num in common:\n",
    "                score['white'] += 1\n",
    "        return score\n",
    "        \n",
    "    else:\n",
    "        return score"
   ]
  },
  {
   "cell_type": "code",
   "execution_count": 23,
   "metadata": {},
   "outputs": [
    {
     "data": {
      "text/plain": [
       "{'black': 0, 'white': 0}"
      ]
     },
     "execution_count": 23,
     "metadata": {},
     "output_type": "execute_result"
    }
   ],
   "source": [
    "guess_score(\"1423\", \"5678\")"
   ]
  },
  {
   "cell_type": "code",
   "execution_count": 24,
   "metadata": {},
   "outputs": [
    {
     "data": {
      "text/plain": [
       "{'black': 1, 'white': 0}"
      ]
     },
     "execution_count": 24,
     "metadata": {},
     "output_type": "execute_result"
    }
   ],
   "source": [
    "guess_score(\"1423\", \"2222\")"
   ]
  },
  {
   "cell_type": "code",
   "execution_count": 25,
   "metadata": {},
   "outputs": [
    {
     "data": {
      "text/plain": [
       "{'black': 1, 'white': 3}"
      ]
     },
     "execution_count": 25,
     "metadata": {},
     "output_type": "execute_result"
    }
   ],
   "source": [
    "guess_score(\"1423\", \"1234\")"
   ]
  },
  {
   "cell_type": "code",
   "execution_count": 26,
   "metadata": {},
   "outputs": [
    {
     "data": {
      "text/plain": [
       "{'black': 0, 'white': 2}"
      ]
     },
     "execution_count": 26,
     "metadata": {},
     "output_type": "execute_result"
    }
   ],
   "source": [
    "guess_score(\"1423\", \"2211\")"
   ]
  },
  {
   "cell_type": "code",
   "execution_count": null,
   "metadata": {},
   "outputs": [],
   "source": []
  }
 ],
 "metadata": {
  "kernelspec": {
   "display_name": "Python 3",
   "language": "python",
   "name": "python3"
  },
  "language_info": {
   "codemirror_mode": {
    "name": "ipython",
    "version": 3
   },
   "file_extension": ".py",
   "mimetype": "text/x-python",
   "name": "python",
   "nbconvert_exporter": "python",
   "pygments_lexer": "ipython3",
   "version": "3.8.5"
  }
 },
 "nbformat": 4,
 "nbformat_minor": 4
}
