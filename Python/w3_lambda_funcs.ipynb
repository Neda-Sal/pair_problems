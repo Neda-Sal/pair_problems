{
 "cells": [
  {
   "cell_type": "markdown",
   "metadata": {},
   "source": [
    "https://www.w3resource.com/python-exercises/lambda/index.php"
   ]
  },
  {
   "cell_type": "code",
   "execution_count": 1,
   "metadata": {},
   "outputs": [
    {
     "name": "stdout",
     "output_type": "stream",
     "text": [
      "20\n",
      "6\n",
      "[('Social sciences', 82), ('English', 88), ('Science', 90), ('Maths', 97)]\n",
      "Even numbers\n",
      "[2, 4, 6, 8, 10]\n",
      "Odd numbers\n",
      "[1, 3, 5, 7, 9]\n",
      "[1, 4, 9, 16, 25, 36, 49, 64, 81, 100]\n",
      "[1, 8, 27, 64, 125, 216, 343, 512, 729, 1000]\n",
      "True\n",
      "True\n",
      "True\n",
      "True\n",
      "False\n",
      "False\n",
      "False\n",
      "False\n",
      "False\n",
      "True\n",
      "[0, 1, 1]\n",
      "[0, 1, 1, 2, 3]\n",
      "[0, 1, 1, 2, 3, 5]\n",
      "[0, 1, 1, 2, 3, 5, 8, 13, 21]\n",
      "[0, 1, 1, 2, 3, 5, 8, 13, 21, 34, 55]\n"
     ]
    },
    {
     "data": {
      "text/plain": [
       "[2, 5, 7, 8, 9, -10, -3, -1]"
      ]
     },
     "execution_count": 1,
     "metadata": {},
     "output_type": "execute_result"
    }
   ],
   "source": [
    "#1\n",
    "x = lambda x: x+15\n",
    "print(x(5))\n",
    "print((lambda x,y:x*y)(2, 3))\n",
    "\n",
    "#2\n",
    "f = (lambda y:(lambda x: x*y))\n",
    "g3 = f(3)\n",
    "g3(5)\n",
    "\n",
    "#3\n",
    "mylist = [('English', 88), ('Science', 90), ('Maths', 97), ('Social sciences', 82)]\n",
    "func = lambda x:x[1]\n",
    "mylist.sort(key = func)\n",
    "print(mylist)\n",
    "\n",
    "#4\n",
    "mylist = [{'make': 'Nokia', 'model': 216, 'color': 'Black'}, {'make': 'Mi Max', 'model': '2', 'color': 'Gold'}, {'make': 'Samsung', 'model': 7, 'color': 'Blue'}]\n",
    "mylist.sort(key = lambda x:x['color'])\n",
    "mylist\n",
    "\n",
    "#5\n",
    "mylist = [1, 2, 3, 4, 5, 6, 7, 8, 9, 10]\n",
    "print(\"Even numbers\")\n",
    "even = lambda x:x%2==0\n",
    "odd  = lambda x:x%2==1\n",
    "print(list(filter(even, mylist)))\n",
    "print(\"Odd numbers\")\n",
    "print(list(filter(odd, mylist)))\n",
    "\n",
    "#6\n",
    "mylist = [1, 2, 3, 4, 5, 6, 7, 8, 9, 10]\n",
    "square = lambda x: x**2\n",
    "print(list(map(square, mylist)))\n",
    "cube = lambda x: x**3\n",
    "print(list(map(cube, mylist)))\n",
    "\n",
    "#7\n",
    "mystring = \"My String\"\n",
    "checker = (lambda x: (lambda y:x[0]==y))\n",
    "checkmystring = checker(mystring)\n",
    "print(checkmystring(\"M\"))\n",
    "\n",
    "#9\n",
    "mylist = [\"01\", \"2-.2\", \"-3\", \"2.....5\", \"a\", \"c\", \"12a\", \"0x12ff00\", \"01101010\"]\n",
    "checker = lambda x: x.replace('.', \"\", 1).replace('-', \"\", 1).isdigit()\n",
    "[print(checker(m)) for m in mylist];\n",
    "\n",
    "#10\n",
    "fib = lambda x: [0] if x==1 else ([0, 1] if x==2 else fib(x-1)+[fib(x-1)[-1]+fib(x-2)[-1]])\n",
    "fib(2)#[0,1]\n",
    "print(fib(3))\n",
    "print(fib(5))\n",
    "print(fib(6))\n",
    "print(fib(9))\n",
    "print(fib(11))\n",
    "\n",
    "#11\n",
    "arr1 = [1, 2, 3, 5, 7, 8, 9, 10]\n",
    "arr2 = [1, 2, 4, 8, 9]\n",
    "in_b = lambda x: x in arr2\n",
    "list(filter(in_b, arr1))\n",
    "\n",
    "#12\n",
    "mylist = [-1, 2, -3, 5, 7, 8, 9, -10]\n",
    "ispos = lambda x: x>=0\n",
    "poslist = sorted(list(filter(ispos, mylist)))\n",
    "isneg = lambda x: x<0\n",
    "neglist = sorted(list(filter(isneg, mylist)))\n",
    "poslist+neglist"
   ]
  },
  {
   "cell_type": "code",
   "execution_count": null,
   "metadata": {},
   "outputs": [],
   "source": []
  }
 ],
 "metadata": {
  "kernelspec": {
   "display_name": "Python 3",
   "language": "python",
   "name": "python3"
  },
  "language_info": {
   "codemirror_mode": {
    "name": "ipython",
    "version": 3
   },
   "file_extension": ".py",
   "mimetype": "text/x-python",
   "name": "python",
   "nbconvert_exporter": "python",
   "pygments_lexer": "ipython3",
   "version": "3.8.5"
  }
 },
 "nbformat": 4,
 "nbformat_minor": 4
}
