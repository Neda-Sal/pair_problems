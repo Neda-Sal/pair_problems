{
 "cells": [
  {
   "cell_type": "markdown",
   "metadata": {},
   "source": [
    "Write a function that accepts the width and height (m, n) and an optional proc s and generates a list with m elements. Each element is a string consisting of either:\n",
    "\n",
    "The default character (hash #) repeating n times (if no proc is given).\n",
    "The character passed in through the proc repeating n times.\n",
    "\n",
    "Examples\n",
    "make_rug(3, 5) ➞ [  \n",
    "  \\\"#####\",  \n",
    "  \\\"#####\",  \n",
    "  \\\"#####\"  \n",
    "]  \n",
    "\n",
    "make_rug(2, 2, 'A')  ➞ [  \n",
    "  \\\"AA\"  \n",
    "  \\\"AA\"  \n",
    "]"
   ]
  },
  {
   "cell_type": "code",
   "execution_count": 7,
   "metadata": {},
   "outputs": [],
   "source": [
    "def make_rug(m, n, proc = '#'):\n",
    "    #m = rows\n",
    "    #n = cols\n",
    "    \n",
    "    col = proc*n\n",
    "    return [col for i in range(m)]"
   ]
  },
  {
   "cell_type": "code",
   "execution_count": 8,
   "metadata": {},
   "outputs": [
    {
     "data": {
      "text/plain": [
       "['#####', '#####', '#####']"
      ]
     },
     "execution_count": 8,
     "metadata": {},
     "output_type": "execute_result"
    }
   ],
   "source": [
    "make_rug(3,5)"
   ]
  },
  {
   "cell_type": "code",
   "execution_count": 9,
   "metadata": {},
   "outputs": [],
   "source": [
    "# i know the problem said make a list, \n",
    "# but i want it to print out like the examples\n",
    "\n",
    "def print_rug(m, n, proc = '#'):\n",
    "    col = proc*n\n",
    "    for i in range(m):\n",
    "        print(col)"
   ]
  },
  {
   "cell_type": "code",
   "execution_count": 10,
   "metadata": {},
   "outputs": [
    {
     "name": "stdout",
     "output_type": "stream",
     "text": [
      "#####\n",
      "#####\n",
      "#####\n"
     ]
    }
   ],
   "source": [
    "print_rug(3,5)"
   ]
  },
  {
   "cell_type": "code",
   "execution_count": 14,
   "metadata": {},
   "outputs": [
    {
     "name": "stdout",
     "output_type": "stream",
     "text": [
      "WMWMWMWMWMWMWMWMWMWM\n",
      "WMWMWMWMWMWMWMWMWMWM\n",
      "WMWMWMWMWMWMWMWMWMWM\n",
      "WMWMWMWMWMWMWMWMWMWM\n",
      "WMWMWMWMWMWMWMWMWMWM\n",
      "WMWMWMWMWMWMWMWMWMWM\n",
      "WMWMWMWMWMWMWMWMWMWM\n",
      "WMWMWMWMWMWMWMWMWMWM\n",
      "WMWMWMWMWMWMWMWMWMWM\n",
      "WMWMWMWMWMWMWMWMWMWM\n"
     ]
    }
   ],
   "source": [
    "print_rug(10, 10, 'WM')"
   ]
  },
  {
   "cell_type": "code",
   "execution_count": 17,
   "metadata": {},
   "outputs": [
    {
     "name": "stdout",
     "output_type": "stream",
     "text": [
      "QoQQoQQoQQoQQoQ\n",
      "QoQQoQQoQQoQQoQ\n",
      "QoQQoQQoQQoQQoQ\n",
      "QoQQoQQoQQoQQoQ\n",
      "QoQQoQQoQQoQQoQ\n",
      "QoQQoQQoQQoQQoQ\n",
      "QoQQoQQoQQoQQoQ\n",
      "QoQQoQQoQQoQQoQ\n",
      "QoQQoQQoQQoQQoQ\n",
      "QoQQoQQoQQoQQoQ\n"
     ]
    }
   ],
   "source": [
    "print_rug(10, 5, 'QoQ')"
   ]
  },
  {
   "cell_type": "code",
   "execution_count": null,
   "metadata": {},
   "outputs": [],
   "source": []
  }
 ],
 "metadata": {
  "kernelspec": {
   "display_name": "Python 3",
   "language": "python",
   "name": "python3"
  },
  "language_info": {
   "codemirror_mode": {
    "name": "ipython",
    "version": 3
   },
   "file_extension": ".py",
   "mimetype": "text/x-python",
   "name": "python",
   "nbconvert_exporter": "python",
   "pygments_lexer": "ipython3",
   "version": "3.8.5"
  }
 },
 "nbformat": 4,
 "nbformat_minor": 4
}
