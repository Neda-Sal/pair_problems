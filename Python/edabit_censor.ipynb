{
 "cells": [
  {
   "cell_type": "markdown",
   "metadata": {},
   "source": [
    "https://edabit.com/challenge/ehyZvt6AJF4rKFfXT"
   ]
  },
  {
   "cell_type": "code",
   "execution_count": 4,
   "metadata": {},
   "outputs": [],
   "source": [
    "#made a censor function first for fun\n",
    "vowels = 'aeiouAEIOU'\n",
    "\n",
    "def censor(string):\n",
    "    for char in string:\n",
    "        if char in vowels:\n",
    "            string = string.replace(char, '*')\n",
    "    return string"
   ]
  },
  {
   "cell_type": "code",
   "execution_count": 5,
   "metadata": {},
   "outputs": [
    {
     "data": {
      "text/plain": [
       "'ph*n*'"
      ]
     },
     "execution_count": 5,
     "metadata": {},
     "output_type": "execute_result"
    }
   ],
   "source": [
    "censor('phone')"
   ]
  },
  {
   "cell_type": "code",
   "execution_count": 6,
   "metadata": {},
   "outputs": [
    {
     "data": {
      "text/plain": [
       "'D*T*'"
      ]
     },
     "execution_count": 6,
     "metadata": {},
     "output_type": "execute_result"
    }
   ],
   "source": [
    "censor('DATA')"
   ]
  },
  {
   "cell_type": "code",
   "execution_count": 17,
   "metadata": {},
   "outputs": [],
   "source": [
    "#now uncensor it\n",
    "def uncensor(string, vow):\n",
    "    i = 0\n",
    "    letter = 0\n",
    "    string = [char for char in string]\n",
    "    for char in string:\n",
    "        if char == '*':\n",
    "            string[letter] = vow[i]\n",
    "            i += 1\n",
    "            letter += 1\n",
    "            print(string)\n",
    "        else:\n",
    "            letter += 1\n",
    "    return ''.join(string)\n",
    "            "
   ]
  },
  {
   "cell_type": "code",
   "execution_count": 18,
   "metadata": {},
   "outputs": [
    {
     "name": "stdout",
     "output_type": "stream",
     "text": [
      "['W', 'h', 'e', 'r', '*', ' ', 'd', '*', 'd', ' ', 'm', 'y', ' ', 'v', '*', 'w', '*', 'l', 's', ' ', 'g', '*', '?']\n",
      "['W', 'h', 'e', 'r', 'e', ' ', 'd', '*', 'd', ' ', 'm', 'y', ' ', 'v', '*', 'w', '*', 'l', 's', ' ', 'g', '*', '?']\n",
      "['W', 'h', 'e', 'r', 'e', ' ', 'd', 'i', 'd', ' ', 'm', 'y', ' ', 'v', '*', 'w', '*', 'l', 's', ' ', 'g', '*', '?']\n",
      "['W', 'h', 'e', 'r', 'e', ' ', 'd', 'i', 'd', ' ', 'm', 'y', ' ', 'v', 'o', 'w', '*', 'l', 's', ' ', 'g', '*', '?']\n",
      "['W', 'h', 'e', 'r', 'e', ' ', 'd', 'i', 'd', ' ', 'm', 'y', ' ', 'v', 'o', 'w', 'e', 'l', 's', ' ', 'g', '*', '?']\n",
      "['W', 'h', 'e', 'r', 'e', ' ', 'd', 'i', 'd', ' ', 'm', 'y', ' ', 'v', 'o', 'w', 'e', 'l', 's', ' ', 'g', 'o', '?']\n"
     ]
    },
    {
     "data": {
      "text/plain": [
       "'Where did my vowels go?'"
      ]
     },
     "execution_count": 18,
     "metadata": {},
     "output_type": "execute_result"
    }
   ],
   "source": [
    "uncensor(\"Wh*r* d*d my v*w*ls g*?\", \"eeioeo\")"
   ]
  },
  {
   "cell_type": "code",
   "execution_count": null,
   "metadata": {},
   "outputs": [],
   "source": []
  }
 ],
 "metadata": {
  "kernelspec": {
   "display_name": "Python 3",
   "language": "python",
   "name": "python3"
  },
  "language_info": {
   "codemirror_mode": {
    "name": "ipython",
    "version": 3
   },
   "file_extension": ".py",
   "mimetype": "text/x-python",
   "name": "python",
   "nbconvert_exporter": "python",
   "pygments_lexer": "ipython3",
   "version": "3.8.5"
  }
 },
 "nbformat": 4,
 "nbformat_minor": 4
}
