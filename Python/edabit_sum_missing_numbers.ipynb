{
 "cells": [
  {
   "cell_type": "markdown",
   "metadata": {},
   "source": [
    "Create a function that returns the sum of missing numbers from the given list.\n",
    "\n",
    "sum_missing_numbers([4, 3, 8, 1, 2]) ➞ 18  \n",
    "5 + 6 + 7 = 18\n",
    "\n",
    "sum_missing_numbers([17, 16, 15, 10, 11, 12]) ➞ 27  \n",
    "13 + 14 = 27\n",
    "\n",
    "sum_missing_numbers([1, 2, 3, 4, 5]) ➞ 0  \n",
    "No Missing Numbers (i.e. all numbers in [1, 5] are present in the list)"
   ]
  },
  {
   "cell_type": "code",
   "execution_count": null,
   "metadata": {},
   "outputs": [],
   "source": [
    "def sum_missing_nums(lst):\n",
    "    total = 0\n",
    "    \n",
    "    for i in range(min(lst), max(lst)):"
   ]
  }
 ],
 "metadata": {
  "kernelspec": {
   "display_name": "Python 3",
   "language": "python",
   "name": "python3"
  },
  "language_info": {
   "codemirror_mode": {
    "name": "ipython",
    "version": 3
   },
   "file_extension": ".py",
   "mimetype": "text/x-python",
   "name": "python",
   "nbconvert_exporter": "python",
   "pygments_lexer": "ipython3",
   "version": "3.8.5"
  }
 },
 "nbformat": 4,
 "nbformat_minor": 4
}
