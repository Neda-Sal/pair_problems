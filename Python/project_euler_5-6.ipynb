{
 "cells": [
  {
   "cell_type": "markdown",
   "metadata": {},
   "source": [
    "# Project Euler Problem 5\n",
    "\n",
    "2520 is the smallest number that can be divided by each of the numbers from 1 to 10 without any remainder.\n",
    "\n",
    "What is the smallest positive number that is evenly divisible by all of the numbers from 1 to 20?\n",
    "\n",
    "With Sibongile Toure"
   ]
  },
  {
   "cell_type": "code",
   "execution_count": 1,
   "metadata": {},
   "outputs": [
    {
     "name": "stdout",
     "output_type": "stream",
     "text": [
      "232792560\n"
     ]
    }
   ],
   "source": [
    "result = 0\n",
    "small_num = 2520\n",
    "still_looking = True\n",
    "while still_looking:\n",
    "    count = 0\n",
    "    for i in range(11,21):\n",
    "        if small_num%i ==0:\n",
    "            count+=1\n",
    "        if count == 10:\n",
    "            result = small_num\n",
    "    if small_num == result:\n",
    "        still_looking=False\n",
    "    small_num+=10\n",
    "print(result)"
   ]
  },
  {
   "cell_type": "markdown",
   "metadata": {},
   "source": [
    "# Problem 6\n",
    "\n",
    "The sum of the squares of the first ten natural numbers is,\n",
    "\n",
    "$$1^2 + 2^2 + ... + 10^2 = 385$$\n",
    "\n",
    "The square of the sum of the first ten natural numbers is,\n",
    "\n",
    "$$(1 + 2 + ... + 10)^2 = 55^2 = 3025$$\n",
    "\n",
    "Hence the difference between the sum of the squares of the first ten natural numbers and the square of the sum is .\n",
    "\n",
    "Find the difference between the sum of the squares of the first one hundred natural numbers and the square of the sum."
   ]
  },
  {
   "cell_type": "code",
   "execution_count": 2,
   "metadata": {},
   "outputs": [],
   "source": [
    "def sum_square_diff(n):\n",
    "    sum_n = (n*(n+1))/2\n",
    "    square_sum = sum_n**2\n",
    "    #square_total = 0\n",
    "    square_total = n*(n+1)*(2*n+1)/6\n",
    "#We used a for loop first, and then used the formula\n",
    "#     for i in range(n+1):\n",
    "#         square_total += i**2\n",
    "    return square_sum - square_total"
   ]
  },
  {
   "cell_type": "code",
   "execution_count": 3,
   "metadata": {},
   "outputs": [
    {
     "data": {
      "text/plain": [
       "25164150.0"
      ]
     },
     "execution_count": 3,
     "metadata": {},
     "output_type": "execute_result"
    }
   ],
   "source": [
    "sum_square_diff(100)"
   ]
  },
  {
   "cell_type": "code",
   "execution_count": null,
   "metadata": {},
   "outputs": [],
   "source": []
  }
 ],
 "metadata": {
  "kernelspec": {
   "display_name": "Python 3",
   "language": "python",
   "name": "python3"
  },
  "language_info": {
   "codemirror_mode": {
    "name": "ipython",
    "version": 3
   },
   "file_extension": ".py",
   "mimetype": "text/x-python",
   "name": "python",
   "nbconvert_exporter": "python",
   "pygments_lexer": "ipython3",
   "version": "3.8.5"
  }
 },
 "nbformat": 4,
 "nbformat_minor": 4
}
